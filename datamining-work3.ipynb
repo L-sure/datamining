{
 "cells": [
  {
   "cell_type": "markdown",
   "id": "274f0cc1",
   "metadata": {},
   "source": [
    "# 数据挖掘互评作业三：分类、预测与聚类\n",
    "\n",
    "## 选择问题2.1 Hotel booking demand, 酒店预订需求\n",
    "\n",
    "该数据集包含城市酒店和度假酒店的预订信息，包括预订时间、停留时间，成人/儿童/婴儿人数以及可用停车位数量等信息。\n",
    "\n",
    "数据量：32列共12W数据。\n",
    "\n",
    "\n",
    "\n",
    "### 导入数据集"
   ]
  },
  {
   "cell_type": "code",
   "execution_count": 1,
   "id": "eab2864e",
   "metadata": {},
   "outputs": [
    {
     "name": "stdout",
     "output_type": "stream",
     "text": [
      "Collecting pycountry\n",
      "  Downloading pycountry-20.7.3.tar.gz (10.1 MB)\n",
      "Building wheels for collected packages: pycountry\n",
      "  Building wheel for pycountry (setup.py): started\n",
      "  Building wheel for pycountry (setup.py): finished with status 'done'\n",
      "  Created wheel for pycountry: filename=pycountry-20.7.3-py2.py3-none-any.whl size=10746863 sha256=eb92df9542db6e60dce58729c30457c56e6dd1f0b31577b3b529cbc6bfc55aa4\n",
      "  Stored in directory: c:\\users\\sure\\appdata\\local\\pip\\cache\\wheels\\57\\e8\\3f\\120ccc1ff7541c108bc5d656e2a14c39da0d824653b62284c6\n",
      "Successfully built pycountry\n",
      "Installing collected packages: pycountry\n",
      "Successfully installed pycountry-20.7.3\n"
     ]
    }
   ],
   "source": [
    "!pip install pycountry\n",
    "\n",
    "import numpy as np\n",
    "import pandas as pd\n",
    "import matplotlib.pyplot as plt\n",
    "import seaborn as sns\n",
    "import pycountry as pc\n",
    "\n",
    "pd.options.display.max_columns = None"
   ]
  },
  {
   "cell_type": "code",
   "execution_count": 2,
   "id": "aaecbcf5",
   "metadata": {},
   "outputs": [],
   "source": [
    "#导入数据集\n",
    "data = pd.read_csv('hotel_bookings.csv')"
   ]
  },
  {
   "cell_type": "code",
   "execution_count": 3,
   "id": "69dd102a",
   "metadata": {},
   "outputs": [
    {
     "data": {
      "text/html": [
       "<div>\n",
       "<style scoped>\n",
       "    .dataframe tbody tr th:only-of-type {\n",
       "        vertical-align: middle;\n",
       "    }\n",
       "\n",
       "    .dataframe tbody tr th {\n",
       "        vertical-align: top;\n",
       "    }\n",
       "\n",
       "    .dataframe thead th {\n",
       "        text-align: right;\n",
       "    }\n",
       "</style>\n",
       "<table border=\"1\" class=\"dataframe\">\n",
       "  <thead>\n",
       "    <tr style=\"text-align: right;\">\n",
       "      <th></th>\n",
       "      <th>hotel</th>\n",
       "      <th>is_canceled</th>\n",
       "      <th>lead_time</th>\n",
       "      <th>arrival_date_year</th>\n",
       "      <th>arrival_date_month</th>\n",
       "      <th>arrival_date_week_number</th>\n",
       "      <th>arrival_date_day_of_month</th>\n",
       "      <th>stays_in_weekend_nights</th>\n",
       "      <th>stays_in_week_nights</th>\n",
       "      <th>adults</th>\n",
       "      <th>children</th>\n",
       "      <th>babies</th>\n",
       "      <th>meal</th>\n",
       "      <th>country</th>\n",
       "      <th>market_segment</th>\n",
       "      <th>distribution_channel</th>\n",
       "      <th>is_repeated_guest</th>\n",
       "      <th>previous_cancellations</th>\n",
       "      <th>previous_bookings_not_canceled</th>\n",
       "      <th>reserved_room_type</th>\n",
       "      <th>assigned_room_type</th>\n",
       "      <th>booking_changes</th>\n",
       "      <th>deposit_type</th>\n",
       "      <th>agent</th>\n",
       "      <th>company</th>\n",
       "      <th>days_in_waiting_list</th>\n",
       "      <th>customer_type</th>\n",
       "      <th>adr</th>\n",
       "      <th>required_car_parking_spaces</th>\n",
       "      <th>total_of_special_requests</th>\n",
       "      <th>reservation_status</th>\n",
       "      <th>reservation_status_date</th>\n",
       "    </tr>\n",
       "  </thead>\n",
       "  <tbody>\n",
       "    <tr>\n",
       "      <th>0</th>\n",
       "      <td>Resort Hotel</td>\n",
       "      <td>0</td>\n",
       "      <td>342</td>\n",
       "      <td>2015</td>\n",
       "      <td>July</td>\n",
       "      <td>27</td>\n",
       "      <td>1</td>\n",
       "      <td>0</td>\n",
       "      <td>0</td>\n",
       "      <td>2</td>\n",
       "      <td>0.0</td>\n",
       "      <td>0</td>\n",
       "      <td>BB</td>\n",
       "      <td>PRT</td>\n",
       "      <td>Direct</td>\n",
       "      <td>Direct</td>\n",
       "      <td>0</td>\n",
       "      <td>0</td>\n",
       "      <td>0</td>\n",
       "      <td>C</td>\n",
       "      <td>C</td>\n",
       "      <td>3</td>\n",
       "      <td>No Deposit</td>\n",
       "      <td>NaN</td>\n",
       "      <td>NaN</td>\n",
       "      <td>0</td>\n",
       "      <td>Transient</td>\n",
       "      <td>0.0</td>\n",
       "      <td>0</td>\n",
       "      <td>0</td>\n",
       "      <td>Check-Out</td>\n",
       "      <td>2015-07-01</td>\n",
       "    </tr>\n",
       "    <tr>\n",
       "      <th>1</th>\n",
       "      <td>Resort Hotel</td>\n",
       "      <td>0</td>\n",
       "      <td>737</td>\n",
       "      <td>2015</td>\n",
       "      <td>July</td>\n",
       "      <td>27</td>\n",
       "      <td>1</td>\n",
       "      <td>0</td>\n",
       "      <td>0</td>\n",
       "      <td>2</td>\n",
       "      <td>0.0</td>\n",
       "      <td>0</td>\n",
       "      <td>BB</td>\n",
       "      <td>PRT</td>\n",
       "      <td>Direct</td>\n",
       "      <td>Direct</td>\n",
       "      <td>0</td>\n",
       "      <td>0</td>\n",
       "      <td>0</td>\n",
       "      <td>C</td>\n",
       "      <td>C</td>\n",
       "      <td>4</td>\n",
       "      <td>No Deposit</td>\n",
       "      <td>NaN</td>\n",
       "      <td>NaN</td>\n",
       "      <td>0</td>\n",
       "      <td>Transient</td>\n",
       "      <td>0.0</td>\n",
       "      <td>0</td>\n",
       "      <td>0</td>\n",
       "      <td>Check-Out</td>\n",
       "      <td>2015-07-01</td>\n",
       "    </tr>\n",
       "    <tr>\n",
       "      <th>2</th>\n",
       "      <td>Resort Hotel</td>\n",
       "      <td>0</td>\n",
       "      <td>7</td>\n",
       "      <td>2015</td>\n",
       "      <td>July</td>\n",
       "      <td>27</td>\n",
       "      <td>1</td>\n",
       "      <td>0</td>\n",
       "      <td>1</td>\n",
       "      <td>1</td>\n",
       "      <td>0.0</td>\n",
       "      <td>0</td>\n",
       "      <td>BB</td>\n",
       "      <td>GBR</td>\n",
       "      <td>Direct</td>\n",
       "      <td>Direct</td>\n",
       "      <td>0</td>\n",
       "      <td>0</td>\n",
       "      <td>0</td>\n",
       "      <td>A</td>\n",
       "      <td>C</td>\n",
       "      <td>0</td>\n",
       "      <td>No Deposit</td>\n",
       "      <td>NaN</td>\n",
       "      <td>NaN</td>\n",
       "      <td>0</td>\n",
       "      <td>Transient</td>\n",
       "      <td>75.0</td>\n",
       "      <td>0</td>\n",
       "      <td>0</td>\n",
       "      <td>Check-Out</td>\n",
       "      <td>2015-07-02</td>\n",
       "    </tr>\n",
       "    <tr>\n",
       "      <th>3</th>\n",
       "      <td>Resort Hotel</td>\n",
       "      <td>0</td>\n",
       "      <td>13</td>\n",
       "      <td>2015</td>\n",
       "      <td>July</td>\n",
       "      <td>27</td>\n",
       "      <td>1</td>\n",
       "      <td>0</td>\n",
       "      <td>1</td>\n",
       "      <td>1</td>\n",
       "      <td>0.0</td>\n",
       "      <td>0</td>\n",
       "      <td>BB</td>\n",
       "      <td>GBR</td>\n",
       "      <td>Corporate</td>\n",
       "      <td>Corporate</td>\n",
       "      <td>0</td>\n",
       "      <td>0</td>\n",
       "      <td>0</td>\n",
       "      <td>A</td>\n",
       "      <td>A</td>\n",
       "      <td>0</td>\n",
       "      <td>No Deposit</td>\n",
       "      <td>304.0</td>\n",
       "      <td>NaN</td>\n",
       "      <td>0</td>\n",
       "      <td>Transient</td>\n",
       "      <td>75.0</td>\n",
       "      <td>0</td>\n",
       "      <td>0</td>\n",
       "      <td>Check-Out</td>\n",
       "      <td>2015-07-02</td>\n",
       "    </tr>\n",
       "    <tr>\n",
       "      <th>4</th>\n",
       "      <td>Resort Hotel</td>\n",
       "      <td>0</td>\n",
       "      <td>14</td>\n",
       "      <td>2015</td>\n",
       "      <td>July</td>\n",
       "      <td>27</td>\n",
       "      <td>1</td>\n",
       "      <td>0</td>\n",
       "      <td>2</td>\n",
       "      <td>2</td>\n",
       "      <td>0.0</td>\n",
       "      <td>0</td>\n",
       "      <td>BB</td>\n",
       "      <td>GBR</td>\n",
       "      <td>Online TA</td>\n",
       "      <td>TA/TO</td>\n",
       "      <td>0</td>\n",
       "      <td>0</td>\n",
       "      <td>0</td>\n",
       "      <td>A</td>\n",
       "      <td>A</td>\n",
       "      <td>0</td>\n",
       "      <td>No Deposit</td>\n",
       "      <td>240.0</td>\n",
       "      <td>NaN</td>\n",
       "      <td>0</td>\n",
       "      <td>Transient</td>\n",
       "      <td>98.0</td>\n",
       "      <td>0</td>\n",
       "      <td>1</td>\n",
       "      <td>Check-Out</td>\n",
       "      <td>2015-07-03</td>\n",
       "    </tr>\n",
       "  </tbody>\n",
       "</table>\n",
       "</div>"
      ],
      "text/plain": [
       "          hotel  is_canceled  lead_time  arrival_date_year arrival_date_month  \\\n",
       "0  Resort Hotel            0        342               2015               July   \n",
       "1  Resort Hotel            0        737               2015               July   \n",
       "2  Resort Hotel            0          7               2015               July   \n",
       "3  Resort Hotel            0         13               2015               July   \n",
       "4  Resort Hotel            0         14               2015               July   \n",
       "\n",
       "   arrival_date_week_number  arrival_date_day_of_month  \\\n",
       "0                        27                          1   \n",
       "1                        27                          1   \n",
       "2                        27                          1   \n",
       "3                        27                          1   \n",
       "4                        27                          1   \n",
       "\n",
       "   stays_in_weekend_nights  stays_in_week_nights  adults  children  babies  \\\n",
       "0                        0                     0       2       0.0       0   \n",
       "1                        0                     0       2       0.0       0   \n",
       "2                        0                     1       1       0.0       0   \n",
       "3                        0                     1       1       0.0       0   \n",
       "4                        0                     2       2       0.0       0   \n",
       "\n",
       "  meal country market_segment distribution_channel  is_repeated_guest  \\\n",
       "0   BB     PRT         Direct               Direct                  0   \n",
       "1   BB     PRT         Direct               Direct                  0   \n",
       "2   BB     GBR         Direct               Direct                  0   \n",
       "3   BB     GBR      Corporate            Corporate                  0   \n",
       "4   BB     GBR      Online TA                TA/TO                  0   \n",
       "\n",
       "   previous_cancellations  previous_bookings_not_canceled reserved_room_type  \\\n",
       "0                       0                               0                  C   \n",
       "1                       0                               0                  C   \n",
       "2                       0                               0                  A   \n",
       "3                       0                               0                  A   \n",
       "4                       0                               0                  A   \n",
       "\n",
       "  assigned_room_type  booking_changes deposit_type  agent  company  \\\n",
       "0                  C                3   No Deposit    NaN      NaN   \n",
       "1                  C                4   No Deposit    NaN      NaN   \n",
       "2                  C                0   No Deposit    NaN      NaN   \n",
       "3                  A                0   No Deposit  304.0      NaN   \n",
       "4                  A                0   No Deposit  240.0      NaN   \n",
       "\n",
       "   days_in_waiting_list customer_type   adr  required_car_parking_spaces  \\\n",
       "0                     0     Transient   0.0                            0   \n",
       "1                     0     Transient   0.0                            0   \n",
       "2                     0     Transient  75.0                            0   \n",
       "3                     0     Transient  75.0                            0   \n",
       "4                     0     Transient  98.0                            0   \n",
       "\n",
       "   total_of_special_requests reservation_status reservation_status_date  \n",
       "0                          0          Check-Out              2015-07-01  \n",
       "1                          0          Check-Out              2015-07-01  \n",
       "2                          0          Check-Out              2015-07-02  \n",
       "3                          0          Check-Out              2015-07-02  \n",
       "4                          1          Check-Out              2015-07-03  "
      ]
     },
     "execution_count": 3,
     "metadata": {},
     "output_type": "execute_result"
    }
   ],
   "source": [
    "#显示前五行数据\n",
    "data.head()"
   ]
  },
  {
   "cell_type": "markdown",
   "id": "9c0a4f6e",
   "metadata": {},
   "source": [
    "### 数据预处理"
   ]
  },
  {
   "cell_type": "code",
   "execution_count": 4,
   "id": "379dd2db",
   "metadata": {},
   "outputs": [],
   "source": [
    "df = data.copy()"
   ]
  },
  {
   "cell_type": "markdown",
   "id": "bf8bb0d2",
   "metadata": {},
   "source": [
    "#### 1.处理缺失数据"
   ]
  },
  {
   "cell_type": "code",
   "execution_count": 5,
   "id": "dd895021",
   "metadata": {
    "scrolled": true
   },
   "outputs": [
    {
     "data": {
      "text/plain": [
       "company                   112593\n",
       "agent                      16340\n",
       "country                      488\n",
       "children                       4\n",
       "reserved_room_type             0\n",
       "assigned_room_type             0\n",
       "booking_changes                0\n",
       "deposit_type                   0\n",
       "hotel                          0\n",
       "previous_cancellations         0\n",
       "dtype: int64"
      ]
     },
     "execution_count": 5,
     "metadata": {},
     "output_type": "execute_result"
    }
   ],
   "source": [
    "#查找缺少的值，显示每一列的总空值并按降序对其进行排序\n",
    "df.isnull().sum().sort_values(ascending=False)[:10]"
   ]
  },
  {
   "cell_type": "markdown",
   "id": "709e4b6a",
   "metadata": {},
   "source": [
    "可以看出公司、代理和国家是缺失最多的数据"
   ]
  },
  {
   "cell_type": "code",
   "execution_count": 6,
   "id": "34762f05",
   "metadata": {},
   "outputs": [],
   "source": [
    "#删除没有成人、婴儿和儿童的行\n",
    "df = df.drop(df[(df.adults+df.babies+df.children)==0].index)\n",
    "\n",
    "#如果公司或代理的ID不为空，就将其替换为0\n",
    "df[['agent','company']] = df[['agent','company']].fillna(0.0)\n",
    "\n",
    "#对于“国家/地区”列中缺少的值，将其替换为最常出现的值\n",
    "df['country'].fillna(data.country.mode().to_string(), inplace=True)\n",
    "\n",
    "#对于缺失的儿童值，将其替换为四舍五入的平均值\n",
    "df['children'].fillna(round(data.children.mean()), inplace=True)"
   ]
  },
  {
   "cell_type": "markdown",
   "id": "10e4eb08",
   "metadata": {},
   "source": [
    "#### 2.转换数据类型"
   ]
  },
  {
   "cell_type": "code",
   "execution_count": 7,
   "id": "d10567b5",
   "metadata": {},
   "outputs": [],
   "source": [
    "#这将些列的数据类型从float转换为integer\n",
    "df[['children', 'company', 'agent']] = df[['children', 'company', 'agent']].astype('int64')"
   ]
  },
  {
   "cell_type": "markdown",
   "id": "709a2c16",
   "metadata": {},
   "source": [
    "### 探索性数据分析"
   ]
  },
  {
   "cell_type": "code",
   "execution_count": 11,
   "id": "752a3d37",
   "metadata": {},
   "outputs": [],
   "source": [
    "def plot(x, y, x_label=None,y_label=None, title=None, figsize=(7,5), type='bar'):\n",
    "    \n",
    "    '''\n",
    "显示\n",
    "    '''\n",
    "    \n",
    "    sns.set_style('darkgrid')\n",
    "    \n",
    "    fig, ax = plt.subplots(figsize=figsize)\n",
    "    \n",
    "    if x_label != None:\n",
    "        ax.set_xlabel(x_label)\n",
    "    \n",
    "    if y_label != None:\n",
    "        ax.set_ylabel(y_label)\n",
    "        \n",
    "    if title != None:\n",
    "        ax.set_title(title)\n",
    "    \n",
    "    if type == 'bar':\n",
    "        sns.barplot(x,y, ax = ax)\n",
    "    elif type == 'line':\n",
    "        sns.lineplot(x,y, ax = ax)\n",
    "        \n",
    "    \n",
    "    plt.show()"
   ]
  },
  {
   "cell_type": "code",
   "execution_count": 12,
   "id": "8cfc0c24",
   "metadata": {},
   "outputs": [],
   "source": [
    "def get_count(series, limit=None):\n",
    "    \n",
    "    '''\n",
    "    计数\n",
    "    '''\n",
    "    \n",
    "    if limit != None:\n",
    "        series = series.value_counts()[:limit]\n",
    "    else:\n",
    "        series = series.value_counts()\n",
    "    \n",
    "    x = series.index\n",
    "    y = series/series.sum()*100\n",
    "    \n",
    "    return x.values,y.values"
   ]
  },
  {
   "cell_type": "markdown",
   "id": "55be1c85",
   "metadata": {},
   "source": [
    "### 1、基本情况：城市酒店和假日酒店预订需求和入住率比较；"
   ]
  },
  {
   "cell_type": "code",
   "execution_count": 13,
   "id": "e9339bee",
   "metadata": {},
   "outputs": [
    {
     "name": "stderr",
     "output_type": "stream",
     "text": [
      "C:\\Users\\sure\\Anaconda3\\lib\\site-packages\\seaborn\\_decorators.py:43: FutureWarning: Pass the following variables as keyword args: x, y. From version 0.12, the only valid positional argument will be `data`, and passing other arguments without an explicit keyword will result in an error or misinterpretation.\n",
      "  FutureWarning\n"
     ]
    },
    {
     "data": {
      "image/png": "[encoded data removed]",
      "text/plain": [
       "<Figure size 504x360 with 1 Axes>"
      ]
     },
     "metadata": {},
     "output_type": "display_data"
    }
   ],
   "source": [
    "df_not_canceled = df[df['is_canceled'] == 0]\n",
    "x,y = get_count(df_not_canceled['hotel'])\n",
    "plot(x,y, x_label='Hotels', y_label='Total Booking (%)', title='Hotel comparison')"
   ]
  },
  {
   "cell_type": "markdown",
   "id": "d4e7309a",
   "metadata": {},
   "source": [
    "#### 可以看出城市酒店的预订需求和入住率比假日酒店的高。"
   ]
  },
  {
   "cell_type": "markdown",
   "id": "581e88e8",
   "metadata": {},
   "source": [
    "### 2、用户行为：提前预订时间、入住时长、预订间隔、餐食预订情况；"
   ]
  },
  {
   "cell_type": "code",
   "execution_count": 19,
   "id": "39db0fa8",
   "metadata": {},
   "outputs": [
    {
     "name": "stderr",
     "output_type": "stream",
     "text": [
      "C:\\Users\\sure\\Anaconda3\\lib\\site-packages\\seaborn\\_decorators.py:43: FutureWarning: Pass the following variables as keyword args: x, y. From version 0.12, the only valid positional argument will be `data`, and passing other arguments without an explicit keyword will result in an error or misinterpretation.\n",
      "  FutureWarning\n"
     ]
    },
    {
     "data": {
      "image/png": "[encoded data removed]",
      "text/plain": [
       "<Figure size 720x360 with 1 Axes>"
      ]
     },
     "metadata": {},
     "output_type": "display_data"
    }
   ],
   "source": [
    "#提前预订时间\n",
    "previous_bookings_not_canceled = df_not_canceled['previous_bookings_not_canceled']\n",
    "x,y = get_count(previous_bookings_not_canceled, limit=10)\n",
    "\n",
    "plot(x,y, x_label='previous_bookings_not_canceled', y_label='Booking Percentage (%)', title='previous_bookings_not_canceled', figsize=(10,5))\n"
   ]
  },
  {
   "cell_type": "code",
   "execution_count": 15,
   "id": "28f72204",
   "metadata": {},
   "outputs": [
    {
     "name": "stderr",
     "output_type": "stream",
     "text": [
      "C:\\Users\\sure\\Anaconda3\\lib\\site-packages\\seaborn\\_decorators.py:43: FutureWarning: Pass the following variables as keyword args: x, y. From version 0.12, the only valid positional argument will be `data`, and passing other arguments without an explicit keyword will result in an error or misinterpretation.\n",
      "  FutureWarning\n"
     ]
    },
    {
     "data": {
      "image/png": "[encoded data removed]",
      "text/plain": [
       "<Figure size 720x360 with 1 Axes>"
      ]
     },
     "metadata": {},
     "output_type": "display_data"
    }
   ],
   "source": [
    "#入住时长\n",
    "total_nights = df_not_canceled['stays_in_weekend_nights']+ df_not_canceled['stays_in_week_nights']\n",
    "x,y = get_count(total_nights, limit=10)\n",
    "\n",
    "plot(x,y, x_label='Number of Nights', y_label='Booking Percentage (%)', title='Night Stay Duration (Top 10)', figsize=(10,5))\n"
   ]
  },
  {
   "cell_type": "markdown",
   "id": "81f08349",
   "metadata": {},
   "source": [
    "可以看出入住1-3天的人最多，其次是入住4天、7天、5天。"
   ]
  },
  {
   "cell_type": "code",
   "execution_count": 24,
   "id": "68ba651c",
   "metadata": {},
   "outputs": [
    {
     "name": "stderr",
     "output_type": "stream",
     "text": [
      "C:\\Users\\sure\\Anaconda3\\lib\\site-packages\\pandas\\core\\indexing.py:1676: SettingWithCopyWarning: \n",
      "A value is trying to be set on a copy of a slice from a DataFrame.\n",
      "Try using .loc[row_indexer,col_indexer] = value instead\n",
      "\n",
      "See the caveats in the documentation: https://pandas.pydata.org/pandas-docs/stable/user_guide/indexing.html#returning-a-view-versus-a-copy\n",
      "  self._setitem_single_column(ilocs[0], value, pi)\n"
     ]
    },
    {
     "data": {
      "image/png": "[encoded data removed]",
      "text/plain": [
       "<Figure size 864x432 with 1 Axes>"
      ]
     },
     "metadata": {},
     "output_type": "display_data"
    }
   ],
   "source": [
    "#对比查看入住时长\n",
    "df_not_canceled.loc[:,'total_nights'] = df_not_canceled['stays_in_weekend_nights']+ df_not_canceled['stays_in_week_nights']\n",
    "\n",
    "fig, ax = plt.subplots(figsize=(12,6))\n",
    "ax.set_xlabel('No of Nights')\n",
    "ax.set_ylabel('No of Nights')\n",
    "ax.set_title('Hotel wise night stay duration')\n",
    "sns.countplot(x='total_nights', hue='hotel', data=df_not_canceled,\n",
    "              order = df_not_canceled.total_nights.value_counts().iloc[:10].index, ax=ax);"
   ]
  },
  {
   "cell_type": "code",
   "execution_count": 23,
   "id": "cec1e7dd",
   "metadata": {},
   "outputs": [
    {
     "name": "stderr",
     "output_type": "stream",
     "text": [
      "C:\\Users\\sure\\Anaconda3\\lib\\site-packages\\seaborn\\_decorators.py:43: FutureWarning: Pass the following variables as keyword args: x, y. From version 0.12, the only valid positional argument will be `data`, and passing other arguments without an explicit keyword will result in an error or misinterpretation.\n",
      "  FutureWarning\n"
     ]
    },
    {
     "data": {
      "image/png": "[encoded data removed]",
      "text/plain": [
       "<Figure size 720x360 with 1 Axes>"
      ]
     },
     "metadata": {},
     "output_type": "display_data"
    }
   ],
   "source": [
    "#餐食预订情况\n",
    "total_meal = df_not_canceled['meal']\n",
    "x,y = get_count(total_meal, limit=10)\n",
    "\n",
    "plot(x,y, x_label='meal', y_label='Booking Percentage (%)', title='MEAL', figsize=(10,5))\n"
   ]
  },
  {
   "cell_type": "markdown",
   "id": "d5917b48",
   "metadata": {},
   "source": [
    "可以看出，预订BB的人最多，HB次之，然后是SC，Undefined和FB。"
   ]
  },
  {
   "cell_type": "markdown",
   "id": "e16b528a",
   "metadata": {},
   "source": [
    "### 3、一年中最佳预订酒店时间；"
   ]
  },
  {
   "cell_type": "code",
   "execution_count": 26,
   "id": "53e39d3d",
   "metadata": {},
   "outputs": [
    {
     "name": "stderr",
     "output_type": "stream",
     "text": [
      "C:\\Users\\sure\\Anaconda3\\lib\\site-packages\\seaborn\\_decorators.py:43: FutureWarning: Pass the following variables as keyword args: x, y. From version 0.12, the only valid positional argument will be `data`, and passing other arguments without an explicit keyword will result in an error or misinterpretation.\n",
      "  FutureWarning\n"
     ]
    },
    {
     "data": {
      "image/png": "[encoded data removed]",
      "text/plain": [
       "<Figure size 720x360 with 1 Axes>"
      ]
     },
     "metadata": {},
     "output_type": "display_data"
    }
   ],
   "source": [
    "#arrival_date_month\n",
    "arrival_date_month = df_not_canceled['arrival_date_month']\n",
    "x,y = get_count(arrival_date_month, limit=10)\n",
    "\n",
    "plot(x,y, x_label='arrival_date_month', y_label='Booking Percentage (%)', title='arrival_date_month', figsize=(10,5))\n"
   ]
  },
  {
   "cell_type": "markdown",
   "id": "b442be71",
   "metadata": {},
   "source": [
    "可以看出一年中八月和七月是最繁忙的月份，一月和十二月是空置最多的月份。"
   ]
  },
  {
   "cell_type": "markdown",
   "id": "884c7a2a",
   "metadata": {},
   "source": [
    "### 4、利用Logistic预测酒店预订"
   ]
  },
  {
   "cell_type": "code",
   "execution_count": 33,
   "id": "dc0c9861",
   "metadata": {},
   "outputs": [
    {
     "name": "stdout",
     "output_type": "stream",
     "text": [
      "The shape of data after drop nan: (119390, 28)\n"
     ]
    },
    {
     "data": {
      "text/plain": [
       "is_canceled                       0\n",
       "lead_time                         0\n",
       "arrival_date_year                 0\n",
       "arrival_date_month                0\n",
       "arrival_date_week_number          0\n",
       "arrival_date_day_of_month         0\n",
       "stays_in_weekend_nights           0\n",
       "stays_in_week_nights              0\n",
       "adults                            0\n",
       "children                          0\n",
       "babies                            0\n",
       "meal                              0\n",
       "country                           0\n",
       "market_segment                    0\n",
       "distribution_channel              0\n",
       "is_repeated_guest                 0\n",
       "previous_cancellations            0\n",
       "previous_bookings_not_canceled    0\n",
       "reserved_room_type                0\n",
       "assigned_room_type                0\n",
       "booking_changes                   0\n",
       "deposit_type                      0\n",
       "days_in_waiting_list              0\n",
       "customer_type                     0\n",
       "adr                               0\n",
       "required_car_parking_spaces       0\n",
       "total_of_special_requests         0\n",
       "reservation_status                0\n",
       "dtype: int64"
      ]
     },
     "execution_count": 33,
     "metadata": {},
     "output_type": "execute_result"
    }
   ],
   "source": [
    "hotel_data = data.copy()\n",
    "drop_columns=['agent','company','hotel','reservation_status_date']\n",
    "hotel_data.drop(inplace=True, axis=1, labels=drop_columns)\n",
    "print(\"The shape of data after drop nan:\",hotel_data.shape)\n",
    "hotel_data.isnull().sum()\n",
    "hotel_data.fillna(hotel_data.mode().iloc[0], inplace=True)\n",
    "hotel_data.isnull().sum()"
   ]
  },
  {
   "cell_type": "code",
   "execution_count": 34,
   "id": "642fa1b1",
   "metadata": {},
   "outputs": [],
   "source": [
    "from sklearn.preprocessing import OneHotEncoder\n",
    "from sklearn.compose import make_column_transformer\n",
    "from sklearn.model_selection import train_test_split\n",
    "from sklearn.preprocessing import StandardScaler\n",
    "from sklearn.decomposition import PCA\n",
    "from sklearn.linear_model import LogisticRegression\n",
    "from sklearn.metrics import confusion_matrix"
   ]
  },
  {
   "cell_type": "code",
   "execution_count": 35,
   "id": "7bc2d32a",
   "metadata": {},
   "outputs": [],
   "source": [
    "# X 为特征，y为标签\n",
    "X = hotel_data.iloc[:,1:]\n",
    "y = hotel_data.iloc[:,0]"
   ]
  },
  {
   "cell_type": "code",
   "execution_count": 36,
   "id": "d5b1086b",
   "metadata": {},
   "outputs": [
    {
     "name": "stdout",
     "output_type": "stream",
     "text": [
      "<class 'pandas.core.frame.DataFrame'>\n",
      "RangeIndex: 119390 entries, 0 to 119389\n",
      "Data columns (total 27 columns):\n",
      " #   Column                          Non-Null Count   Dtype  \n",
      "---  ------                          --------------   -----  \n",
      " 0   lead_time                       119390 non-null  int64  \n",
      " 1   arrival_date_year               119390 non-null  int64  \n",
      " 2   arrival_date_month              119390 non-null  object \n",
      " 3   arrival_date_week_number        119390 non-null  int64  \n",
      " 4   arrival_date_day_of_month       119390 non-null  int64  \n",
      " 5   stays_in_weekend_nights         119390 non-null  int64  \n",
      " 6   stays_in_week_nights            119390 non-null  int64  \n",
      " 7   adults                          119390 non-null  int64  \n",
      " 8   children                        119390 non-null  float64\n",
      " 9   babies                          119390 non-null  int64  \n",
      " 10  meal                            119390 non-null  object \n",
      " 11  country                         119390 non-null  object \n",
      " 12  market_segment                  119390 non-null  object \n",
      " 13  distribution_channel            119390 non-null  object \n",
      " 14  is_repeated_guest               119390 non-null  int64  \n",
      " 15  previous_cancellations          119390 non-null  int64  \n",
      " 16  previous_bookings_not_canceled  119390 non-null  int64  \n",
      " 17  reserved_room_type              119390 non-null  object \n",
      " 18  assigned_room_type              119390 non-null  object \n",
      " 19  booking_changes                 119390 non-null  int64  \n",
      " 20  deposit_type                    119390 non-null  object \n",
      " 21  days_in_waiting_list            119390 non-null  int64  \n",
      " 22  customer_type                   119390 non-null  object \n",
      " 23  adr                             119390 non-null  float64\n",
      " 24  required_car_parking_spaces     119390 non-null  int64  \n",
      " 25  total_of_special_requests       119390 non-null  int64  \n",
      " 26  reservation_status              119390 non-null  object \n",
      "dtypes: float64(2), int64(15), object(10)\n",
      "memory usage: 24.6+ MB\n"
     ]
    }
   ],
   "source": [
    "X.info()"
   ]
  },
  {
   "cell_type": "markdown",
   "id": "62f4afbb",
   "metadata": {},
   "source": [
    "因为数据同时具有数值特征和非数值特征，而Logistics Regression只能处理数值特征，所以使用sklearn.OneHotEncoder将非数值特征转化为数值特征。"
   ]
  },
  {
   "cell_type": "code",
   "execution_count": 37,
   "id": "53fd5182",
   "metadata": {},
   "outputs": [],
   "source": [
    "need_transfer=['meal','distribution_channel','reservation_status','country','arrival_date_month','market_segment',\n",
    " 'deposit_type','customer_type', 'reserved_room_type','assigned_room_type' ]\n",
    "transfer = make_column_transformer(\n",
    "    (OneHotEncoder(),need_transfer), remainder = 'passthrough'\n",
    "    )\n",
    "X = transfer.fit_transform(X).toarray()"
   ]
  },
  {
   "cell_type": "markdown",
   "id": "d099356f",
   "metadata": {},
   "source": [
    "将数据集的80%作为训练集，剩余的20%作为测试集。"
   ]
  },
  {
   "cell_type": "code",
   "execution_count": 38,
   "id": "cca6ffd1",
   "metadata": {},
   "outputs": [],
   "source": [
    "X_train, X_test, y_train, y_test = train_test_split(X, y, test_size = 0.2, random_state = 0)"
   ]
  },
  {
   "cell_type": "code",
   "execution_count": 39,
   "id": "2b098350",
   "metadata": {},
   "outputs": [
    {
     "data": {
      "text/plain": [
       "(95512, 256)"
      ]
     },
     "execution_count": 39,
     "metadata": {},
     "output_type": "execute_result"
    }
   ],
   "source": [
    "X_train.shape"
   ]
  },
  {
   "cell_type": "markdown",
   "id": "b2bc19ca",
   "metadata": {},
   "source": [
    "非数值特征处理"
   ]
  },
  {
   "cell_type": "code",
   "execution_count": 40,
   "id": "d662e53b",
   "metadata": {},
   "outputs": [
    {
     "name": "stdout",
     "output_type": "stream",
     "text": [
      "降维后的训练数据: (95512, 100) \n",
      "测试数据: (23878, 100)\n",
      "降维后的训练数据: [[-2.58608045  2.76478448  1.68098888 ...  4.80272185 -1.72163355\n",
      "   6.57674857]\n",
      " [-2.08112568  2.26330555  1.23601626 ... -0.47851781 -1.50937066\n",
      "  -1.08887666]\n",
      " [-1.40744083  0.10963425 -1.38138457 ... -0.01673589 -0.7241488\n",
      "   0.40022078]\n",
      " ...\n",
      " [-2.67108999  0.16216401  0.05107102 ...  0.75395672 -1.40218139\n",
      "  -0.90421753]\n",
      " [ 1.46549337 -0.6488795  -2.51754059 ... -0.18364691  0.26975794\n",
      "  -0.54456701]\n",
      " [ 3.87718256  1.20290197  2.81267082 ... -0.15380042  0.293859\n",
      "   0.20261217]] \n",
      "测试数据: [[ 0.84562692  0.66888513 -1.39419401 ... -0.38151853 -0.16472217\n",
      "   0.41804819]\n",
      " [-0.33360379  0.87889228 -1.33835735 ...  0.34645337 -0.05475282\n",
      "  -0.56405384]\n",
      " [ 5.29034078  0.68268906  1.47521842 ... -0.0283588   0.16535458\n",
      "  -0.31496273]\n",
      " ...\n",
      " [ 1.02152611 -4.44642717 -1.75478397 ... -0.81196968 -1.18149588\n",
      "  -0.69008026]\n",
      " [ 0.85692405 -5.92738506  0.00924127 ... -0.14496374 -0.05150982\n",
      "   0.07363094]\n",
      " [-0.82319154  0.77982497 -1.16189486 ... -0.08057395 -0.22962059\n",
      "   0.81090636]]\n"
     ]
    }
   ],
   "source": [
    "stander = StandardScaler()\n",
    "X_train = stander.fit_transform(X_train)\n",
    "X_test = stander.transform(X_test)\n",
    "\n",
    "pca = PCA(n_components = 100)\n",
    "X_train = pca.fit_transform(X_train)\n",
    "X_test = pca.transform(X_test)\n",
    "explained_variance = pca.explained_variance_ratio_\n",
    "\n",
    "print(\"降维后的训练数据:\",X_train.shape,\"\\n测试数据:\",X_test.shape)\n",
    "print(\"降维后的训练数据:\",X_train,\"\\n测试数据:\",X_test)"
   ]
  },
  {
   "cell_type": "markdown",
   "id": "7ed90860",
   "metadata": {},
   "source": [
    "Logistics Regression\n",
    "\n",
    "使用sklearn的LogisticsRegression进行训练和测试"
   ]
  },
  {
   "cell_type": "code",
   "execution_count": 41,
   "id": "485f4298",
   "metadata": {},
   "outputs": [
    {
     "data": {
      "text/plain": [
       "LogisticRegression(max_iter=10000, random_state=0)"
      ]
     },
     "execution_count": 41,
     "metadata": {},
     "output_type": "execute_result"
    }
   ],
   "source": [
    "#训练\n",
    "classifier = LogisticRegression(random_state = 0, max_iter=10000)\n",
    "classifier.fit(X_train, y_train)"
   ]
  },
  {
   "cell_type": "code",
   "execution_count": 42,
   "id": "7f4cb8b6",
   "metadata": {},
   "outputs": [
    {
     "data": {
      "text/plain": [
       "array([[14915,    19],\n",
       "       [   22,  8922]], dtype=int64)"
      ]
     },
     "execution_count": 42,
     "metadata": {},
     "output_type": "execute_result"
    }
   ],
   "source": [
    "#测试及结果\n",
    "y_pred = classifier.predict(X_test)\n",
    "\n",
    "prediction = confusion_matrix(y_test, y_pred)\n",
    "prediction\n"
   ]
  },
  {
   "cell_type": "code",
   "execution_count": 43,
   "id": "2bdd94dd",
   "metadata": {},
   "outputs": [
    {
     "name": "stdout",
     "output_type": "stream",
     "text": [
      "The final test accuracy is 99.8283%\n"
     ]
    }
   ],
   "source": [
    "accuracy = (prediction[0][0] + prediction[1][1]) * 100.0 / prediction.sum()\n",
    "print(\"The final test accuracy is %.4f%%\" % (accuracy))"
   ]
  },
  {
   "cell_type": "code",
   "execution_count": 44,
   "id": "3fc4da0c",
   "metadata": {},
   "outputs": [
    {
     "name": "stdout",
     "output_type": "stream",
     "text": [
      "[[60172    60]\n",
      " [   67 35213]]\n",
      "The final accuracy on training data is 99.8670%\n"
     ]
    }
   ],
   "source": [
    "#对训练集进行测试\n",
    "\n",
    "train_pred = classifier.predict(X_train)\n",
    "train_prediction = confusion_matrix(y_train,train_pred)\n",
    "print(train_prediction)\n",
    "train_accuracy = (train_prediction[0][0] + train_prediction[1][1]) * 100.0 / train_prediction.sum()\n",
    "print(\"The final accuracy on training data is %.4f%%\" % (train_accuracy))"
   ]
  },
  {
   "cell_type": "markdown",
   "id": "7bee6c3b",
   "metadata": {},
   "source": [
    "训练后在训练集和测试集上都取得了99.0+%的准确率。"
   ]
  },
  {
   "cell_type": "code",
   "execution_count": null,
   "id": "ad0cf142",
   "metadata": {},
   "outputs": [],
   "source": []
  }
 ],
 "metadata": {
  "kernelspec": {
   "display_name": "Python 3",
   "language": "python",
   "name": "python3"
  },
  "language_info": {
   "codemirror_mode": {
    "name": "ipython",
    "version": 3
   },
   "file_extension": ".py",
   "mimetype": "text/x-python",
   "name": "python",
   "nbconvert_exporter": "python",
   "pygments_lexer": "ipython3",
   "version": "3.7.4"
  }
 },
 "nbformat": 4,
 "nbformat_minor": 5
}
